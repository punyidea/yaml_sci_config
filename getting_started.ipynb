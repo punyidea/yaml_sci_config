{
 "cells": [
  {
   "metadata": {},
   "cell_type": "markdown",
   "source": [
    "# Yaml_Sci_Config\n",
    "\n",
    "This is a small library based on ruamel.yaml which adds some functionality to your code and allows you to focus more time on implementation and less on parsing inputs."
   ],
   "id": "94d29f1f900dca02"
  },
  {
   "metadata": {},
   "cell_type": "markdown",
   "source": [
    "## Installation\n",
    "\n",
    "This package is pip installable. To install it, clone the directory and run `pip install PATH` where PATH is the path to the directory. The package is installed as yaml_sci_config."
   ],
   "id": "16a6d177925b97e1"
  },
  {
   "metadata": {},
   "cell_type": "markdown",
   "source": [
    "\n",
    "## Using the Interface Classes\n",
    "\n",
    "This library has several classes that help you add functionality to code. Each interface class has a tag, which is its class name preceded by an exclamation point. As an example, the FunctionHandle class has tag `!FunctionHandle`. This tag comes before its use in the yaml file.\n",
    "\n",
    "The following example gives a sneak peek as to what our library can do. We make yaml load a class defined in our interface.\n",
    "\n"
   ],
   "id": "c3c7c324d91103a1"
  },
  {
   "metadata": {
    "ExecuteTime": {
     "end_time": "2025-04-25T10:26:55.417119Z",
     "start_time": "2025-04-25T10:26:55.345297Z"
    }
   },
   "cell_type": "code",
   "source": [
    "from yaml_sci_config.yaml_interface import yaml_load\n",
    "from yaml_sci_config.interface_classes import FunctionHandle\n",
    "\n",
    "\n",
    "yaml_str=\\\n",
    "'''\n",
    "a: !FunctionHandle\n",
    "    module_name: numpy\n",
    "    function_name: sum\n",
    "\n",
    "'''\n",
    "config_load = yaml_load(yaml_str)\n",
    "print(config_load['a'])\n",
    "\n"
   ],
   "id": "efb6bbb757edf174",
   "outputs": [
    {
     "name": "stdout",
     "output_type": "stream",
     "text": [
      "FunctionHandle(module_name='numpy', function_name='sum', _fn_hand=<function sum at 0x0000023D9039D1B0>)\n"
     ]
    }
   ],
   "execution_count": 1
  },
  {
   "metadata": {},
   "cell_type": "markdown",
   "source": [
    "\n",
    "### Example Load and dump to yaml: Function Handle\n",
    "\n",
    "The previous object we created was called a function handle. Let's see what exactly a function handle does.\n",
    "It should behave in most cases exactly like the function at hand. If you need everything that a function handle needs, though, like __name__ attributes, then call its `to_function_handle` method. (the last line fails because it is not a function handle.\n"
   ],
   "id": "fe005341c2e2a4f1"
  },
  {
   "metadata": {
    "ExecuteTime": {
     "end_time": "2025-04-25T10:26:55.425530Z",
     "start_time": "2025-04-25T10:26:55.417119Z"
    }
   },
   "cell_type": "code",
   "source": [
    "import numpy as np\n",
    "\n",
    "loaded_numpy_sum = config_load['a']\n",
    "numpy_sum = np.sum\n",
    "x = np.array([1,2,3,4,5])\n",
    "print(f'loaded sum: {loaded_numpy_sum(x)}')\n",
    "print(f'numpy sum: {np.sum(x)}')\n",
    "\n",
    "loaded_numpy_sum_handle = loaded_numpy_sum.to_function_handle()\n",
    "\n",
    "print(f'loaded_to_fn_handle name: {loaded_numpy_sum_handle.__name__}')\n",
    "print(f'numpy sum name:{np.sum.__name__}')\n",
    "try:\n",
    "    print(f'loaded sum name: {loaded_numpy_sum.__name__}')\n",
    "except AttributeError:\n",
    "    print(f'whoops. couldn''t do that.')"
   ],
   "id": "cc335d2e22ee7023",
   "outputs": [
    {
     "name": "stdout",
     "output_type": "stream",
     "text": [
      "loaded sum: 15\n",
      "numpy sum: 15\n",
      "loaded_to_fn_handle name: sum\n",
      "numpy sum name:sum\n",
      "whoops. couldnt do that.\n"
     ]
    }
   ],
   "execution_count": 2
  },
  {
   "metadata": {},
   "cell_type": "markdown",
   "source": "Let's send our custom python handle to print to yaml. We dump to a string with yaml_dumps because it is convenient here. Notice our nested config also prints just fine.",
   "id": "3f25c26ddad79b70"
  },
  {
   "metadata": {
    "ExecuteTime": {
     "end_time": "2025-04-25T10:26:55.504578Z",
     "start_time": "2025-04-25T10:26:55.500141Z"
    }
   },
   "cell_type": "code",
   "source": [
    "from yaml_sci_config.yaml_interface import yaml_dumps\n",
    "\n",
    "print(yaml_dumps(config_load['a']))\n",
    "print (' ')\n",
    "longer_info_to_dump = {'2':43,'nested_field':{'a':loaded_numpy_sum,'b':'other_string'}}\n",
    "print(yaml_dumps(longer_info_to_dump))"
   ],
   "id": "798e077c149c7302",
   "outputs": [
    {
     "name": "stdout",
     "output_type": "stream",
     "text": [
      "!FunctionHandle\n",
      "module_name: numpy\n",
      "function_name: sum\n",
      "\n",
      " \n",
      "'2': 43\n",
      "nested_field:\n",
      "  a: !FunctionHandle\n",
      "    module_name: numpy\n",
      "    function_name: sum\n",
      "  b: other_string\n",
      "\n"
     ]
    }
   ],
   "execution_count": 3
  },
  {
   "metadata": {},
   "cell_type": "markdown",
   "source": [
    "## Interface Builtin classes\n",
    "\n",
    "### Numpy Array Support\n",
    "\n",
    "We have a fine selection of numpy array wrappers, and some parsing. Examples of generating them in python and through YAML strings. Most\n"
   ],
   "id": "bcb251d4c7810cfb"
  },
  {
   "metadata": {
    "ExecuteTime": {
     "end_time": "2025-04-25T10:26:55.514093Z",
     "start_time": "2025-04-25T10:26:55.509158Z"
    }
   },
   "cell_type": "code",
   "source": [
    "from yaml_sci_config.interface_classes import LogspaceParams,LinspaceParams\n",
    "numpy_examples_str= \\\n",
    "'''\\\n",
    "linspace_arr: !LinspaceParams\n",
    "    lin_start: 1\n",
    "    lin_stop: 2\n",
    "    n_linspace: 11\n",
    "logspace_arr: !LogspaceParams\n",
    "    log_start: 1 # 10^1\n",
    "    log_stop: 3  # 10^3\n",
    "    n_logspace: 7\n",
    "'''\n",
    "np_examples = yaml_load(numpy_examples_str)\n",
    "\n",
    "linspace_arr:LinspaceParams = np_examples['linspace_arr'].to_np_array()\n",
    "logspace_arr:LogspaceParams = np_examples['logspace_arr'].to_np_array()\n",
    "print(linspace_arr)\n",
    "print(logspace_arr)"
   ],
   "id": "ef81d94e105b448f",
   "outputs": [
    {
     "name": "stdout",
     "output_type": "stream",
     "text": [
      "[1.  1.1 1.2 1.3 1.4 1.5 1.6 1.7 1.8 1.9 2. ]\n",
      "[  10.           21.5443469    46.41588834  100.          215.443469\n",
      "  464.15888336 1000.        ]\n"
     ]
    }
   ],
   "execution_count": 4
  },
  {
   "metadata": {},
   "cell_type": "markdown",
   "source": "We also include other examples of parsing.",
   "id": "134ec118de279f48"
  },
  {
   "metadata": {
    "ExecuteTime": {
     "end_time": "2025-04-25T10:26:55.531666Z",
     "start_time": "2025-04-25T10:26:55.526502Z"
    }
   },
   "cell_type": "code",
   "source": [
    "\n",
    "\n",
    "\n",
    "\n",
    "other_examples_str = \\\n",
    "'''\\\n",
    "list_elem: [2,3, 36]\n",
    "np_arr_explicit: np.array([2,3,26])\n",
    "np_complex_arr: np.array([5e2-4.5i,2])\n",
    "complex_val: 4.2+3i # support for scientific notation, i instead of j\n",
    "yaml_list:\n",
    " - 1\n",
    " - !FunctionHandle {\"module_name\":\"numpy\", \"function_name\":\"mod\"}\n",
    "'''\n",
    "other_examples = yaml_load(other_examples_str)\n",
    "\n",
    "print(other_examples)\n"
   ],
   "id": "682915391efea739",
   "outputs": [
    {
     "name": "stdout",
     "output_type": "stream",
     "text": [
      "{'list_elem': [2, 3, 36], 'np_arr_explicit': array([ 2,  3, 26]), 'np_complex_arr': array([500.-4.5j,   2.+0.j ]), 'complex_val': (4.2+3j), 'yaml_list': [1, FunctionHandle(module_name='numpy', function_name='mod', _fn_hand=<ufunc 'remainder'>)]}\n"
     ]
    }
   ],
   "execution_count": 5
  },
  {
   "metadata": {
    "ExecuteTime": {
     "end_time": "2025-04-25T10:26:55.544550Z",
     "start_time": "2025-04-25T10:26:55.542381Z"
    }
   },
   "cell_type": "code",
   "source": "",
   "id": "7029c6baa2478061",
   "outputs": [],
   "execution_count": null
  },
  {
   "metadata": {
    "ExecuteTime": {
     "end_time": "2025-04-25T10:26:55.551121Z",
     "start_time": "2025-04-25T10:26:55.548976Z"
    }
   },
   "cell_type": "code",
   "source": "",
   "id": "166508c4a3d591f2",
   "outputs": [],
   "execution_count": null
  },
  {
   "metadata": {},
   "cell_type": "markdown",
   "source": [
    "\n",
    "\n",
    "### Function, Partial Function, ClassObject and PartialClassObject\n",
    "\n",
    "You can import functions or class objects too!\n",
    "\n",
    "\n"
   ],
   "id": "5ca5f30a4e0995f5"
  },
  {
   "metadata": {
    "ExecuteTime": {
     "end_time": "2025-04-25T10:26:55.567640Z",
     "start_time": "2025-04-25T10:26:55.562264Z"
    }
   },
   "cell_type": "code",
   "source": [
    "yaml_str='''\\\n",
    "a: !FunctionHandle\n",
    "    module_name: numpy\n",
    "    function_name: sum\n",
    "b: !PartialFunctionHandle\n",
    "    module_name: numpy\n",
    "    function_name: sum\n",
    "    kwargs: {axis: -1}\n",
    "c: !PartialFunctionHandle # showing different yaml syntax for dictionaries\n",
    "    module_name: numpy\n",
    "    function_name: sum\n",
    "    kwargs:\n",
    "        axis: 0\n",
    "'''\n",
    "import numpy as np\n",
    "loaded = yaml_load(yaml_str)\n",
    "\n",
    "np_sum = loaded['a']\n",
    "np_sum_axis_neg1 = loaded['b']\n",
    "np_sum_axis_0 = loaded['c']\n",
    "\n",
    "test_arr = np.array([[1,2,3],[4,5,6]])\n",
    "\n",
    "all_sum =np_sum(test_arr)\n",
    "sum_axis_0 = np_sum_axis_0(test_arr)\n",
    "sum_axis_neg1 = np_sum_axis_neg1(test_arr)\n",
    "print(f'all sums: {all_sum}, first axis: {sum_axis_0}, second axis: {sum_axis_neg1}')\n"
   ],
   "id": "285b274b3e23119b",
   "outputs": [
    {
     "name": "stdout",
     "output_type": "stream",
     "text": [
      "all sums: 21, first axis: [5 7 9], second axis: [ 6 15]\n"
     ]
    }
   ],
   "execution_count": 6
  },
  {
   "metadata": {
    "ExecuteTime": {
     "end_time": "2025-04-25T10:26:55.987512Z",
     "start_time": "2025-04-25T10:26:55.656238Z"
    }
   },
   "cell_type": "code",
   "source": [
    "yaml_str = '''\\\n",
    "d: !ClassObject\n",
    "    module_name: numpy\n",
    "    class_name: array\n",
    "e: !PartialClass\n",
    "    module_name: numpy\n",
    "    module_name: numpy\n",
    "'''\n",
    "loaded = yaml_load(yaml_str)"
   ],
   "id": "d216a038672c728b",
   "outputs": [
    {
     "ename": "AttributeError",
     "evalue": "'ClassObject' object has no attribute 'function_name'",
     "output_type": "error",
     "traceback": [
      "\u001B[31m---------------------------------------------------------------------------\u001B[39m",
      "\u001B[31mAttributeError\u001B[39m                            Traceback (most recent call last)",
      "\u001B[36mFile \u001B[39m\u001B[32m~\\PycharmProjects\\yaml_sci_config\\yaml_sci_config\\interface_classes.py:208\u001B[39m, in \u001B[36mClassObject.get_class_obj\u001B[39m\u001B[34m(self)\u001B[39m\n\u001B[32m    206\u001B[39m \u001B[38;5;28;01mif\u001B[39;00m \u001B[38;5;129;01mnot\u001B[39;00m isclass(\u001B[38;5;28mcls\u001B[39m):\n\u001B[32m    207\u001B[39m     \u001B[38;5;28;01mraise\u001B[39;00m \u001B[38;5;167;01mValueError\u001B[39;00m(\n\u001B[32m--> \u001B[39m\u001B[32m208\u001B[39m         \u001B[33;43m'\u001B[39;49m\u001B[33;43mThe class given: (module: \u001B[39;49m\u001B[33;43m{\u001B[39;49m\u001B[33;43m.module_name}, class: \u001B[39;49m\u001B[33;43m{\u001B[39;49m\u001B[33;43m.function_name}) does not seem to be a class\u001B[39;49m\u001B[33;43m'\u001B[39;49m\u001B[43m.\u001B[49m\u001B[43mformat\u001B[49m\u001B[43m(\u001B[49m\n\u001B[32m    209\u001B[39m \u001B[43m            \u001B[49m\u001B[38;5;28;43mself\u001B[39;49m\u001B[43m,\u001B[49m\u001B[43m \u001B[49m\u001B[38;5;28;43mself\u001B[39;49m\u001B[43m)\u001B[49m)\n\u001B[32m    210\u001B[39m \u001B[38;5;28;01mreturn\u001B[39;00m \u001B[38;5;28mcls\u001B[39m\n",
      "\u001B[31mAttributeError\u001B[39m: 'ClassObject' object has no attribute 'function_name'",
      "\nDuring handling of the above exception, another exception occurred:\n",
      "\u001B[31mAttributeError\u001B[39m                            Traceback (most recent call last)",
      "\u001B[36mCell\u001B[39m\u001B[36m \u001B[39m\u001B[32mIn[7]\u001B[39m\u001B[32m, line 9\u001B[39m\n\u001B[32m      1\u001B[39m yaml_str = \u001B[33m'''\u001B[39m\u001B[38;5;130;01m\\\u001B[39;00m\n\u001B[32m      2\u001B[39m \u001B[33md: !ClassObject\u001B[39m\n\u001B[32m      3\u001B[39m \u001B[33m    module_name: numpy\u001B[39m\n\u001B[32m   (...)\u001B[39m\u001B[32m      7\u001B[39m \u001B[33m    module_name: numpy\u001B[39m\n\u001B[32m      8\u001B[39m \u001B[33m'''\u001B[39m\n\u001B[32m----> \u001B[39m\u001B[32m9\u001B[39m loaded = \u001B[43myaml_load\u001B[49m\u001B[43m(\u001B[49m\u001B[43myaml_str\u001B[49m\u001B[43m)\u001B[49m\n",
      "\u001B[36mFile \u001B[39m\u001B[32m~\\PycharmProjects\\yaml_sci_config\\yaml_sci_config\\yaml_interface.py:178\u001B[39m, in \u001B[36myaml_load\u001B[39m\u001B[34m(fin, yaml, custom_setup)\u001B[39m\n\u001B[32m    176\u001B[39m     \u001B[38;5;28;01mpass\u001B[39;00m\u001B[38;5;66;03m#setup_yaml(yaml, custom_types)\u001B[39;00m\n\u001B[32m    177\u001B[39m     \u001B[38;5;66;03m#TODO: register the extra classes too.\u001B[39;00m\n\u001B[32m--> \u001B[39m\u001B[32m178\u001B[39m \u001B[38;5;28;01mreturn\u001B[39;00m \u001B[43myaml\u001B[49m\u001B[43m.\u001B[49m\u001B[43mload\u001B[49m\u001B[43m(\u001B[49m\u001B[43mfin\u001B[49m\u001B[43m)\u001B[49m\n",
      "\u001B[36mFile \u001B[39m\u001B[32m~\\PycharmProjects\\yaml_sci_config\\.venv\\Lib\\site-packages\\ruamel\\yaml\\main.py:451\u001B[39m, in \u001B[36mYAML.load\u001B[39m\u001B[34m(self, stream)\u001B[39m\n\u001B[32m    449\u001B[39m constructor, parser = \u001B[38;5;28mself\u001B[39m.get_constructor_parser(stream)\n\u001B[32m    450\u001B[39m \u001B[38;5;28;01mtry\u001B[39;00m:\n\u001B[32m--> \u001B[39m\u001B[32m451\u001B[39m     \u001B[38;5;28;01mreturn\u001B[39;00m \u001B[43mconstructor\u001B[49m\u001B[43m.\u001B[49m\u001B[43mget_single_data\u001B[49m\u001B[43m(\u001B[49m\u001B[43m)\u001B[49m\n\u001B[32m    452\u001B[39m \u001B[38;5;28;01mfinally\u001B[39;00m:\n\u001B[32m    453\u001B[39m     parser.dispose()\n",
      "\u001B[36mFile \u001B[39m\u001B[32m~\\PycharmProjects\\yaml_sci_config\\.venv\\Lib\\site-packages\\ruamel\\yaml\\constructor.py:116\u001B[39m, in \u001B[36mBaseConstructor.get_single_data\u001B[39m\u001B[34m(self)\u001B[39m\n\u001B[32m    114\u001B[39m node = \u001B[38;5;28mself\u001B[39m.composer.get_single_node()\n\u001B[32m    115\u001B[39m \u001B[38;5;28;01mif\u001B[39;00m node \u001B[38;5;129;01mis\u001B[39;00m \u001B[38;5;129;01mnot\u001B[39;00m \u001B[38;5;28;01mNone\u001B[39;00m:\n\u001B[32m--> \u001B[39m\u001B[32m116\u001B[39m     \u001B[38;5;28;01mreturn\u001B[39;00m \u001B[38;5;28;43mself\u001B[39;49m\u001B[43m.\u001B[49m\u001B[43mconstruct_document\u001B[49m\u001B[43m(\u001B[49m\u001B[43mnode\u001B[49m\u001B[43m)\u001B[49m\n\u001B[32m    117\u001B[39m \u001B[38;5;28;01mreturn\u001B[39;00m \u001B[38;5;28;01mNone\u001B[39;00m\n",
      "\u001B[36mFile \u001B[39m\u001B[32m~\\PycharmProjects\\yaml_sci_config\\.venv\\Lib\\site-packages\\ruamel\\yaml\\constructor.py:125\u001B[39m, in \u001B[36mBaseConstructor.construct_document\u001B[39m\u001B[34m(self, node)\u001B[39m\n\u001B[32m    123\u001B[39m     \u001B[38;5;28mself\u001B[39m.state_generators = []\n\u001B[32m    124\u001B[39m     \u001B[38;5;28;01mfor\u001B[39;00m generator \u001B[38;5;129;01min\u001B[39;00m state_generators:\n\u001B[32m--> \u001B[39m\u001B[32m125\u001B[39m \u001B[43m        \u001B[49m\u001B[38;5;28;43;01mfor\u001B[39;49;00m\u001B[43m \u001B[49m\u001B[43m_dummy\u001B[49m\u001B[43m \u001B[49m\u001B[38;5;129;43;01min\u001B[39;49;00m\u001B[43m \u001B[49m\u001B[43mgenerator\u001B[49m\u001B[43m:\u001B[49m\n\u001B[32m    126\u001B[39m \u001B[43m            \u001B[49m\u001B[38;5;28;43;01mpass\u001B[39;49;00m\n\u001B[32m    127\u001B[39m \u001B[38;5;28mself\u001B[39m.constructed_objects = {}\n",
      "\u001B[36mFile \u001B[39m\u001B[32m~\\PycharmProjects\\yaml_sci_config\\.venv\\Lib\\site-packages\\ruamel\\yaml\\constructor.py:1482\u001B[39m, in \u001B[36mRoundTripConstructor.construct_yaml_map\u001B[39m\u001B[34m(self, node)\u001B[39m\n\u001B[32m   1480\u001B[39m data._yaml_set_line_col(node.start_mark.line, node.start_mark.column)\n\u001B[32m   1481\u001B[39m \u001B[38;5;28;01myield\u001B[39;00m data\n\u001B[32m-> \u001B[39m\u001B[32m1482\u001B[39m \u001B[38;5;28;43mself\u001B[39;49m\u001B[43m.\u001B[49m\u001B[43mconstruct_mapping\u001B[49m\u001B[43m(\u001B[49m\u001B[43mnode\u001B[49m\u001B[43m,\u001B[49m\u001B[43m \u001B[49m\u001B[43mdata\u001B[49m\u001B[43m,\u001B[49m\u001B[43m \u001B[49m\u001B[43mdeep\u001B[49m\u001B[43m=\u001B[49m\u001B[38;5;28;43;01mTrue\u001B[39;49;00m\u001B[43m)\u001B[49m\n\u001B[32m   1483\u001B[39m \u001B[38;5;28mself\u001B[39m.set_collection_style(data, node)\n",
      "\u001B[36mFile \u001B[39m\u001B[32m~\\PycharmProjects\\yaml_sci_config\\.venv\\Lib\\site-packages\\ruamel\\yaml\\constructor.py:1371\u001B[39m, in \u001B[36mRoundTripConstructor.construct_mapping\u001B[39m\u001B[34m(self, node, maptyp, deep)\u001B[39m\n\u001B[32m   1364\u001B[39m \u001B[38;5;28;01mif\u001B[39;00m \u001B[38;5;129;01mnot\u001B[39;00m \u001B[38;5;28misinstance\u001B[39m(key, Hashable):\n\u001B[32m   1365\u001B[39m     \u001B[38;5;28;01mraise\u001B[39;00m ConstructorError(\n\u001B[32m   1366\u001B[39m         \u001B[33m'\u001B[39m\u001B[33mwhile constructing a mapping\u001B[39m\u001B[33m'\u001B[39m,\n\u001B[32m   1367\u001B[39m         node.start_mark,\n\u001B[32m   1368\u001B[39m         \u001B[33m'\u001B[39m\u001B[33mfound unhashable key\u001B[39m\u001B[33m'\u001B[39m,\n\u001B[32m   1369\u001B[39m         key_node.start_mark,\n\u001B[32m   1370\u001B[39m     )\n\u001B[32m-> \u001B[39m\u001B[32m1371\u001B[39m value = \u001B[38;5;28;43mself\u001B[39;49m\u001B[43m.\u001B[49m\u001B[43mconstruct_object\u001B[49m\u001B[43m(\u001B[49m\u001B[43mvalue_node\u001B[49m\u001B[43m,\u001B[49m\u001B[43m \u001B[49m\u001B[43mdeep\u001B[49m\u001B[43m=\u001B[49m\u001B[43mdeep\u001B[49m\u001B[43m)\u001B[49m\n\u001B[32m   1372\u001B[39m \u001B[38;5;28;01mif\u001B[39;00m \u001B[38;5;28mself\u001B[39m.check_mapping_key(node, key_node, maptyp, key, value):\n\u001B[32m   1373\u001B[39m     \u001B[38;5;28;01mif\u001B[39;00m \u001B[38;5;28mself\u001B[39m.loader \u001B[38;5;129;01mand\u001B[39;00m \u001B[38;5;28mself\u001B[39m.loader.comment_handling \u001B[38;5;129;01mis\u001B[39;00m \u001B[38;5;28;01mNone\u001B[39;00m:\n",
      "\u001B[36mFile \u001B[39m\u001B[32m~\\PycharmProjects\\yaml_sci_config\\.venv\\Lib\\site-packages\\ruamel\\yaml\\constructor.py:147\u001B[39m, in \u001B[36mBaseConstructor.construct_object\u001B[39m\u001B[34m(self, node, deep)\u001B[39m\n\u001B[32m    143\u001B[39m     \u001B[38;5;66;03m# raise ConstructorError(\u001B[39;00m\n\u001B[32m    144\u001B[39m     \u001B[38;5;66;03m#     None, None, 'found unconstructable recursive node', node.start_mark\u001B[39;00m\n\u001B[32m    145\u001B[39m     \u001B[38;5;66;03m# )\u001B[39;00m\n\u001B[32m    146\u001B[39m \u001B[38;5;28mself\u001B[39m.recursive_objects[node] = \u001B[38;5;28;01mNone\u001B[39;00m\n\u001B[32m--> \u001B[39m\u001B[32m147\u001B[39m data = \u001B[38;5;28;43mself\u001B[39;49m\u001B[43m.\u001B[49m\u001B[43mconstruct_non_recursive_object\u001B[49m\u001B[43m(\u001B[49m\u001B[43mnode\u001B[49m\u001B[43m)\u001B[49m\n\u001B[32m    149\u001B[39m \u001B[38;5;28mself\u001B[39m.constructed_objects[node] = data\n\u001B[32m    150\u001B[39m \u001B[38;5;28;01mdel\u001B[39;00m \u001B[38;5;28mself\u001B[39m.recursive_objects[node]\n",
      "\u001B[36mFile \u001B[39m\u001B[32m~\\PycharmProjects\\yaml_sci_config\\.venv\\Lib\\site-packages\\ruamel\\yaml\\constructor.py:188\u001B[39m, in \u001B[36mBaseConstructor.construct_non_recursive_object\u001B[39m\u001B[34m(self, node, tag)\u001B[39m\n\u001B[32m    186\u001B[39m data = \u001B[38;5;28mnext\u001B[39m(generator)\n\u001B[32m    187\u001B[39m \u001B[38;5;28;01mif\u001B[39;00m \u001B[38;5;28mself\u001B[39m.deep_construct:\n\u001B[32m--> \u001B[39m\u001B[32m188\u001B[39m \u001B[43m    \u001B[49m\u001B[38;5;28;43;01mfor\u001B[39;49;00m\u001B[43m \u001B[49m\u001B[43m_dummy\u001B[49m\u001B[43m \u001B[49m\u001B[38;5;129;43;01min\u001B[39;49;00m\u001B[43m \u001B[49m\u001B[43mgenerator\u001B[49m\u001B[43m:\u001B[49m\n\u001B[32m    189\u001B[39m \u001B[43m        \u001B[49m\u001B[38;5;28;43;01mpass\u001B[39;49;00m\n\u001B[32m    190\u001B[39m \u001B[38;5;28;01melse\u001B[39;00m:\n",
      "\u001B[36mFile \u001B[39m\u001B[32m~\\PycharmProjects\\yaml_sci_config\\yaml_sci_config\\yaml_interface.py:49\u001B[39m, in \u001B[36mmake_constructor.<locals>.constructor\u001B[39m\u001B[34m(loader, node)\u001B[39m\n\u001B[32m     45\u001B[39m \u001B[38;5;28;01mdef\u001B[39;00m\u001B[38;5;250m \u001B[39m\u001B[34mconstructor\u001B[39m(loader: ruamel.yaml.Loader, node):\n\u001B[32m     46\u001B[39m \u001B[38;5;250m    \u001B[39m\u001B[33;03m'''\u001B[39;00m\n\u001B[32m     47\u001B[39m \u001B[33;03m    Patch to include dataclasses fields with default factory.\u001B[39;00m\n\u001B[32m     48\u001B[39m \u001B[33;03m    '''\u001B[39;00m\n\u001B[32m---> \u001B[39m\u001B[32m49\u001B[39m \u001B[43m    \u001B[49m\u001B[38;5;28;43;01mfor\u001B[39;49;00m\u001B[43m \u001B[49m\u001B[43mdata\u001B[49m\u001B[43m \u001B[49m\u001B[38;5;129;43;01min\u001B[39;49;00m\u001B[43m \u001B[49m\u001B[43mloader\u001B[49m\u001B[43m.\u001B[49m\u001B[43mconstruct_yaml_object\u001B[49m\u001B[43m(\u001B[49m\u001B[43mnode\u001B[49m\u001B[43m,\u001B[49m\u001B[43m \u001B[49m\u001B[38;5;28;43mcls\u001B[39;49m\u001B[43m)\u001B[49m\u001B[43m:\u001B[49m\n\u001B[32m     50\u001B[39m \u001B[43m        \u001B[49m\u001B[38;5;28;43;01myield\u001B[39;49;00m\u001B[43m \u001B[49m\u001B[43mdata\u001B[49m\n\u001B[32m     51\u001B[39m     \u001B[38;5;66;03m# raw = loader.construct_mapping(node,maptyp=CommentedMap, deep=True)\u001B[39;00m\n\u001B[32m     52\u001B[39m     \u001B[38;5;66;03m# init_kwargs = {}\u001B[39;00m\n",
      "\u001B[36mFile \u001B[39m\u001B[32m~\\PycharmProjects\\yaml_sci_config\\.venv\\Lib\\site-packages\\ruamel\\yaml\\constructor.py:1523\u001B[39m, in \u001B[36mRoundTripConstructor.construct_yaml_object\u001B[39m\u001B[34m(self, node, cls)\u001B[39m\n\u001B[32m   1521\u001B[39m         \u001B[38;5;28;01mfor\u001B[39;00m name, default \u001B[38;5;129;01min\u001B[39;00m init_var_defaults.items():\n\u001B[32m   1522\u001B[39m             kw[name] = mapping.get(name, default)\n\u001B[32m-> \u001B[39m\u001B[32m1523\u001B[39m         \u001B[43mpost_init\u001B[49m\u001B[43m(\u001B[49m\u001B[43m*\u001B[49m\u001B[43m*\u001B[49m\u001B[43mkw\u001B[49m\u001B[43m)\u001B[49m\n\u001B[32m   1524\u001B[39m \u001B[38;5;28;01melse\u001B[39;00m:\n\u001B[32m   1525\u001B[39m     state = SafeConstructor.construct_mapping(\u001B[38;5;28mself\u001B[39m, node)\n",
      "\u001B[36mFile \u001B[39m\u001B[32m~\\PycharmProjects\\yaml_sci_config\\yaml_sci_config\\interface_classes.py:197\u001B[39m, in \u001B[36mClassObject.__post_init__\u001B[39m\u001B[34m(self)\u001B[39m\n\u001B[32m    196\u001B[39m \u001B[38;5;28;01mdef\u001B[39;00m\u001B[38;5;250m \u001B[39m\u001B[34m__post_init__\u001B[39m(\u001B[38;5;28mself\u001B[39m) -> \u001B[38;5;28;01mNone\u001B[39;00m:\n\u001B[32m--> \u001B[39m\u001B[32m197\u001B[39m     \u001B[38;5;28mself\u001B[39m._cls = \u001B[38;5;28;43mself\u001B[39;49m\u001B[43m.\u001B[49m\u001B[43mget_class_obj\u001B[49m\u001B[43m(\u001B[49m\u001B[43m)\u001B[49m\n",
      "\u001B[36mFile \u001B[39m\u001B[32m~\\PycharmProjects\\yaml_sci_config\\yaml_sci_config\\interface_classes.py:212\u001B[39m, in \u001B[36mClassObject.get_class_obj\u001B[39m\u001B[34m(self)\u001B[39m\n\u001B[32m    210\u001B[39m     \u001B[38;5;28;01mreturn\u001B[39;00m \u001B[38;5;28mcls\u001B[39m\n\u001B[32m    211\u001B[39m \u001B[38;5;28;01mexcept\u001B[39;00m \u001B[38;5;167;01mAttributeError\u001B[39;00m:\n\u001B[32m--> \u001B[39m\u001B[32m212\u001B[39m     \u001B[38;5;28;01mraise\u001B[39;00m \u001B[38;5;167;01mNameError\u001B[39;00m(\u001B[33;43m'\u001B[39;49m\u001B[33;43mClass \u001B[39;49m\u001B[33;43m{\u001B[39;49m\u001B[33;43m.function_name} not found in module \u001B[39;49m\u001B[33;43m{\u001B[39;49m\u001B[33;43m.module_name}\u001B[39;49m\u001B[33;43m'\u001B[39;49m\u001B[43m.\u001B[49m\u001B[43mformat\u001B[49m\u001B[43m(\u001B[49m\u001B[38;5;28;43mself\u001B[39;49m\u001B[43m,\u001B[49m\u001B[43m \u001B[49m\u001B[38;5;28;43mself\u001B[39;49m\u001B[43m)\u001B[49m)\n",
      "\u001B[31mAttributeError\u001B[39m: 'ClassObject' object has no attribute 'function_name'"
     ]
    }
   ],
   "execution_count": 7
  },
  {
   "metadata": {},
   "cell_type": "markdown",
   "source": [
    "## Making Custom Dataclasses\n",
    "\n",
    "To make a custom dataclass (see python dataclasses documentation), which you can import, is very straightforward."
   ],
   "id": "e7d9aac46c9faa4f"
  },
  {
   "metadata": {
    "ExecuteTime": {
     "end_time": "2025-04-25T10:36:05.215170Z",
     "start_time": "2025-04-25T10:36:05.206270Z"
    }
   },
   "cell_type": "code",
   "source": [
    "from yaml_sci_config.yaml_interface import yaml_dataclass\n",
    "from numpy.typing import ArrayLike\n",
    "\n",
    "@yaml_dataclass\n",
    "class CustomDataclass:\n",
    "    field1: str\n",
    "    field2: list\n",
    "\n",
    "@yaml_dataclass\n",
    "class Circle:\n",
    "    center: ArrayLike\n",
    "    r: float\n",
    "    def __post_init__(self):\n",
    "        self.center = np.asarray(self.center)\n",
    "        assert(self.center.shape == (2,))\n",
    "\n",
    "@yaml_dataclass\n",
    "class Eyes:\n",
    "    left_eye: Circle\n",
    "    right_eye: Circle\n",
    "    def __post_init__(self):\n",
    "\n",
    "        assert (np.sum((self.left_eye.center- self.right_eye.center)**2 >=\n",
    "                       self.left_eye.r + self.right_eye.r))\n",
    "custom_types_yaml=\\\n",
    "'''\n",
    "cust_class: !CustomDataclass # make sure the space between the exclamation point and yaml tag is there\n",
    "    field1: This\n",
    "    field2: [2,4,5]\n",
    "\n",
    "circle: !Circle\n",
    "    center: np.array([2.3,4.1]) # convenience method for numpy arrays. Still should be sanitizied in post_init.\n",
    "    r: 2.4\n",
    "\n",
    "eyes: !Eyes\n",
    "    left_eye: !Circle\n",
    "        center: np.array([-1.0,0])\n",
    "        r: .75\n",
    "    right_eye: !Circle\n",
    "        center: np.array([1,0.0])\n",
    "        r: .75\n",
    "'''\n",
    "\n",
    "loaded = yaml_load(custom_types_yaml)\n",
    "\n",
    "print(loaded['cust_class'])\n",
    "print(loaded['circle'])\n",
    "print(loaded['eyes'])\n",
    "\n"
   ],
   "id": "c59e41fd89d7dfa5",
   "outputs": [
    {
     "name": "stdout",
     "output_type": "stream",
     "text": [
      "CustomDataclass(field1='This', field2=[2, 4, 5])\n",
      "Circle(center=array([2.3, 4.1]), r=2.4)\n",
      "Eyes(left_eye=Circle(center=array([-1.,  0.]), r=0.75), right_eye=Circle(center=array([1., 0.]), r=0.75))\n"
     ]
    }
   ],
   "execution_count": 12
  },
  {
   "metadata": {},
   "cell_type": "markdown",
   "source": "# Running a script, generating config files.",
   "id": "c9d3269b011b4ca6"
  },
  {
   "metadata": {},
   "cell_type": "markdown",
   "source": "Finally,",
   "id": "c658a9ef0a9e5e5d"
  },
  {
   "metadata": {},
   "cell_type": "code",
   "outputs": [],
   "execution_count": null,
   "source": "",
   "id": "d8dd7ceef7b1db86"
  },
  {
   "metadata": {},
   "cell_type": "markdown",
   "source": "",
   "id": "5214bd37fb3b7149"
  },
  {
   "metadata": {},
   "cell_type": "code",
   "outputs": [],
   "execution_count": null,
   "source": "",
   "id": "2f46781348eb868c"
  },
  {
   "metadata": {},
   "cell_type": "code",
   "outputs": [],
   "execution_count": null,
   "source": "",
   "id": "2e199d6294fde6fd"
  },
  {
   "metadata": {},
   "cell_type": "code",
   "outputs": [],
   "execution_count": null,
   "source": "",
   "id": "40cbb9393f705dec"
  },
  {
   "metadata": {},
   "cell_type": "markdown",
   "source": "#",
   "id": "8fb83a83b7f29d80"
  },
  {
   "metadata": {},
   "cell_type": "markdown",
   "source": "",
   "id": "e9dbe224caa4bd9"
  }
 ],
 "metadata": {
  "kernelspec": {
   "display_name": "Python 3",
   "language": "python",
   "name": "python3"
  },
  "language_info": {
   "codemirror_mode": {
    "name": "ipython",
    "version": 2
   },
   "file_extension": ".py",
   "mimetype": "text/x-python",
   "name": "python",
   "nbconvert_exporter": "python",
   "pygments_lexer": "ipython2",
   "version": "2.7.6"
  }
 },
 "nbformat": 4,
 "nbformat_minor": 5
}
