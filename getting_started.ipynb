{
 "cells": [
  {
   "cell_type": "markdown",
   "id": "94d29f1f900dca02",
   "metadata": {},
   "source": [
    "# Yaml_Sci_Config\n",
    "\n",
    "This is a small library based on ruamel.yaml which adds some functionality to your code and allows you to focus more time on implementation and less on parsing inputs."
   ]
  },
  {
   "cell_type": "markdown",
   "id": "16a6d177925b97e1",
   "metadata": {},
   "source": [
    "## Installation\n",
    "\n",
    "This package is pip installable. To install it, clone the directory and run `pip install PATH` where PATH is the path to the directory. The package is installed as yaml_sci_config."
   ]
  },
  {
   "cell_type": "markdown",
   "id": "c3c7c324d91103a1",
   "metadata": {},
   "source": [
    "\n",
    "## Using the Interface Classes\n",
    "\n",
    "This library has several classes that help you add functionality to code. Each interface class has a tag, which is its class name preceded by an exclamation point. As an example, the FunctionHandle class has tag `!FunctionHandle`. This tag comes before its use in the yaml file.\n",
    "\n",
    "The following example gives a sneak peek as to what our library can do. We make yaml load a class defined in our interface.\n",
    "\n"
   ]
  },
  {
   "cell_type": "code",
   "id": "efb6bbb757edf174",
   "metadata": {
    "ExecuteTime": {
     "end_time": "2025-04-25T11:56:28.855267Z",
     "start_time": "2025-04-25T11:56:28.780586Z"
    }
   },
   "source": [
    "from datetime import datetime\n",
    "\n",
    "from yaml_sci_config.interface_classes import FunctionHandle\n",
    "from yaml_sci_config.load_save import yaml_load,yaml_dumps\n",
    "\n",
    "yaml_str=\\\n",
    "'''\n",
    "a: !FunctionHandle\n",
    "    module_name: numpy\n",
    "    function_name: sum\n",
    "\n",
    "'''\n",
    "config_load = yaml_load(yaml_str)\n",
    "print(config_load['a'])\n",
    "\n"
   ],
   "outputs": [
    {
     "name": "stdout",
     "output_type": "stream",
     "text": [
      "FunctionHandle(module_name='numpy', function_name='sum', _fn_hand=<function sum at 0x0000024AFFD0B0B0>)\n"
     ]
    }
   ],
   "execution_count": 1
  },
  {
   "cell_type": "markdown",
   "id": "fe005341c2e2a4f1",
   "metadata": {},
   "source": [
    "\n",
    "### Example Load and dump to yaml: Function Handle\n",
    "\n",
    "The previous object we created was called a function handle. Let's see what exactly a function handle does.\n",
    "It should behave in most cases exactly like the function at hand. If you need everything that a function handle needs, though, like __name__ attributes, then call its `to_function_handle` method. (the last line fails because it is not a function handle.\n"
   ]
  },
  {
   "cell_type": "code",
   "id": "cc335d2e22ee7023",
   "metadata": {
    "ExecuteTime": {
     "end_time": "2025-04-25T11:56:28.862214Z",
     "start_time": "2025-04-25T11:56:28.858270Z"
    }
   },
   "source": [
    "import numpy as np\n",
    "\n",
    "loaded_numpy_sum = config_load['a']\n",
    "numpy_sum = np.sum\n",
    "x = np.array([1,2,3,4,5])\n",
    "print(f'loaded sum: {loaded_numpy_sum(x)}')\n",
    "print(f'numpy sum: {np.sum(x)}')\n",
    "\n",
    "loaded_numpy_sum_handle = loaded_numpy_sum.to_function_handle()\n",
    "\n",
    "print(f'loaded_to_fn_handle name: {loaded_numpy_sum_handle.__name__}')\n",
    "print(f'numpy sum name:{np.sum.__name__}')\n",
    "try:\n",
    "    print(f'loaded sum name: {loaded_numpy_sum.__name__}')\n",
    "except AttributeError:\n",
    "    print(f'whoops. couldn''t do that.')"
   ],
   "outputs": [
    {
     "name": "stdout",
     "output_type": "stream",
     "text": [
      "loaded sum: 15\n",
      "numpy sum: 15\n",
      "loaded_to_fn_handle name: sum\n",
      "numpy sum name:sum\n",
      "whoops. couldnt do that.\n"
     ]
    }
   ],
   "execution_count": 2
  },
  {
   "cell_type": "markdown",
   "id": "3f25c26ddad79b70",
   "metadata": {},
   "source": [
    "Let's send our custom python handle to print to yaml. We dump to a string with yaml_dumps because it is convenient here. Notice our nested config also prints just fine."
   ]
  },
  {
   "cell_type": "code",
   "id": "798e077c149c7302",
   "metadata": {
    "ExecuteTime": {
     "end_time": "2025-04-25T11:56:28.939995Z",
     "start_time": "2025-04-25T11:56:28.935936Z"
    }
   },
   "source": [
    "\n",
    "\n",
    "print(yaml_dumps(config_load['a']))\n",
    "print (' ')\n",
    "longer_info_to_dump = {'2':43,'nested_field':{'a':loaded_numpy_sum,'b':'other_string'}}\n",
    "print(yaml_dumps(longer_info_to_dump))"
   ],
   "outputs": [
    {
     "name": "stdout",
     "output_type": "stream",
     "text": [
      "!FunctionHandle\n",
      "module_name: numpy\n",
      "function_name: sum\n",
      "\n",
      " \n",
      "'2': 43\n",
      "nested_field:\n",
      "  a: !FunctionHandle\n",
      "    module_name: numpy\n",
      "    function_name: sum\n",
      "  b: other_string\n",
      "\n"
     ]
    }
   ],
   "execution_count": 3
  },
  {
   "cell_type": "markdown",
   "id": "bcb251d4c7810cfb",
   "metadata": {},
   "source": [
    "## Interface Builtin classes\n",
    "\n",
    "### Numpy Array Support\n",
    "\n",
    "We have a fine selection of numpy array wrappers, and some parsing. Examples of generating them in python and through YAML strings. Most\n"
   ]
  },
  {
   "cell_type": "code",
   "id": "ef81d94e105b448f",
   "metadata": {
    "ExecuteTime": {
     "end_time": "2025-04-25T11:56:28.949570Z",
     "start_time": "2025-04-25T11:56:28.944597Z"
    }
   },
   "source": [
    "from yaml_sci_config.interface_classes import LogspaceParams,LinspaceParams\n",
    "numpy_examples_str= \\\n",
    "'''\\\n",
    "linspace_arr: !LinspaceParams\n",
    "    lin_start: 1\n",
    "    lin_stop: 2\n",
    "    n_linspace: 11\n",
    "logspace_arr: !LogspaceParams\n",
    "    log_start: 1 # 10^1\n",
    "    log_stop: 3  # 10^3\n",
    "    n_logspace: 7\n",
    "'''\n",
    "np_examples = yaml_load(numpy_examples_str)\n",
    "\n",
    "linspace_arr:LinspaceParams = np_examples['linspace_arr'].to_np_array()\n",
    "logspace_arr:LogspaceParams = np_examples['logspace_arr'].to_np_array()\n",
    "print(linspace_arr)\n",
    "print(logspace_arr)"
   ],
   "outputs": [
    {
     "name": "stdout",
     "output_type": "stream",
     "text": [
      "[1.  1.1 1.2 1.3 1.4 1.5 1.6 1.7 1.8 1.9 2. ]\n",
      "[  10.           21.5443469    46.41588834  100.          215.443469\n",
      "  464.15888336 1000.        ]\n"
     ]
    }
   ],
   "execution_count": 4
  },
  {
   "cell_type": "markdown",
   "id": "134ec118de279f48",
   "metadata": {},
   "source": [
    "We also include other examples of parsing."
   ]
  },
  {
   "cell_type": "code",
   "id": "682915391efea739",
   "metadata": {
    "ExecuteTime": {
     "end_time": "2025-04-25T11:56:28.959935Z",
     "start_time": "2025-04-25T11:56:28.954615Z"
    }
   },
   "source": [
    "\n",
    "\n",
    "\n",
    "\n",
    "other_examples_str = \\\n",
    "'''\\\n",
    "list_elem: [2,3, 36]\n",
    "np_arr_explicit: np.array([2,3,26])\n",
    "np_complex_arr: np.array([5e2-4.5i,2])\n",
    "complex_val: 4.2+3i # support for scientific notation, i instead of j\n",
    "yaml_list:\n",
    " - 1\n",
    " - !FunctionHandle {\"module_name\":\"numpy\", \"function_name\":\"mod\"}\n",
    "'''\n",
    "other_examples = yaml_load(other_examples_str)\n",
    "\n",
    "print(other_examples)\n"
   ],
   "outputs": [
    {
     "name": "stdout",
     "output_type": "stream",
     "text": [
      "{'list_elem': [2, 3, 36], 'np_arr_explicit': array([ 2,  3, 26]), 'np_complex_arr': array([500.-4.5j,   2.+0.j ]), 'complex_val': (4.2+3j), 'yaml_list': [1, FunctionHandle(module_name='numpy', function_name='mod', _fn_hand=<ufunc 'remainder'>)]}\n"
     ]
    }
   ],
   "execution_count": 5
  },
  {
   "cell_type": "code",
   "id": "7029c6baa2478061",
   "metadata": {
    "ExecuteTime": {
     "end_time": "2025-04-25T11:56:28.966250Z",
     "start_time": "2025-04-25T11:56:28.964078Z"
    }
   },
   "source": [],
   "outputs": [],
   "execution_count": null
  },
  {
   "cell_type": "code",
   "id": "166508c4a3d591f2",
   "metadata": {
    "ExecuteTime": {
     "end_time": "2025-04-25T11:56:28.972614Z",
     "start_time": "2025-04-25T11:56:28.970326Z"
    }
   },
   "source": [],
   "outputs": [],
   "execution_count": null
  },
  {
   "cell_type": "markdown",
   "id": "5ca5f30a4e0995f5",
   "metadata": {},
   "source": [
    "\n",
    "\n",
    "### Function, Partial Function, ClassObject and PartialClassObject\n",
    "\n",
    "You can import functions or class objects too!\n",
    "Particularly helpful if you want to choose some function you've already defined in a place of your own python module.\n",
    "\n",
    "\n",
    "\n"
   ]
  },
  {
   "cell_type": "code",
   "id": "285b274b3e23119b",
   "metadata": {
    "ExecuteTime": {
     "end_time": "2025-04-25T11:56:28.981421Z",
     "start_time": "2025-04-25T11:56:28.977236Z"
    }
   },
   "source": [
    "yaml_str='''\\\n",
    "a: !FunctionHandle\n",
    "    module_name: numpy\n",
    "    function_name: sum\n",
    "b: !PartialFunctionHandle\n",
    "    module_name: numpy\n",
    "    function_name: sum\n",
    "    kwargs: {axis: -1}\n",
    "c: !PartialFunctionHandle # showing different yaml syntax for dictionaries\n",
    "    module_name: numpy\n",
    "    function_name: sum\n",
    "    kwargs:\n",
    "        axis: 0\n",
    "'''\n",
    "import numpy as np\n",
    "loaded = yaml_load(yaml_str)\n",
    "\n",
    "np_sum = loaded['a']\n",
    "np_sum_axis_neg1 = loaded['b']\n",
    "np_sum_axis_0 = loaded['c']\n",
    "\n",
    "test_arr = np.array([[1,2,3],[4,5,6]])\n",
    "\n",
    "all_sum =np_sum(test_arr)\n",
    "sum_axis_0 = np_sum_axis_0(test_arr)\n",
    "sum_axis_neg1 = np_sum_axis_neg1(test_arr)\n",
    "print(f'all sums: {all_sum}, first axis: {sum_axis_0}, second axis: {sum_axis_neg1}')\n"
   ],
   "outputs": [
    {
     "name": "stdout",
     "output_type": "stream",
     "text": [
      "all sums: 21, first axis: [5 7 9], second axis: [ 6 15]\n"
     ]
    }
   ],
   "execution_count": 6
  },
  {
   "cell_type": "code",
   "id": "d216a038672c728b",
   "metadata": {
    "ExecuteTime": {
     "end_time": "2025-04-25T11:56:28.990551Z",
     "start_time": "2025-04-25T11:56:28.986521Z"
    }
   },
   "source": [
    "import datetime\n",
    "yaml_str = '''\\\n",
    "d: !ClassObject\n",
    "    module_name: datetime\n",
    "    class_name: datetime\n",
    "e: !PartialClassObject\n",
    "    module_name: datetime\n",
    "    class_name: datetime\n",
    "    kwargs:\n",
    "        year: 2020\n",
    "        month: 4\n",
    "        day: 20\n",
    "'''\n",
    "loaded = yaml_load(yaml_str)\n",
    "\n",
    "Datetime_obj, Datetime_420 = loaded['d'], loaded['e']\n",
    "x = Datetime_obj(year=2025,month=1,day=20,hour=10)\n",
    "y = Datetime_420(hour=10)\n",
    "print(f'x: {x.strftime(\"%Y/%m/%d %H:%M:%S\")}')\n",
    "print(f'y: {y.strftime(\"%Y/%m/%d %H:%M:%S\")}')"
   ],
   "outputs": [
    {
     "name": "stdout",
     "output_type": "stream",
     "text": [
      "x: 2025/01/20 10:00:00\n",
      "y: 2020/04/20 10:00:00\n"
     ]
    }
   ],
   "execution_count": 7
  },
  {
   "cell_type": "markdown",
   "id": "e7d9aac46c9faa4f",
   "metadata": {},
   "source": [
    "## Making Custom Dataclasses\n",
    "\n",
    "To make a custom dataclass (see python dataclasses documentation), which you can import, is very straightforward."
   ]
  },
  {
   "cell_type": "code",
   "id": "c59e41fd89d7dfa5",
   "metadata": {
    "ExecuteTime": {
     "end_time": "2025-04-25T11:56:29.004030Z",
     "start_time": "2025-04-25T11:56:28.994996Z"
    }
   },
   "source": [
    "from yaml_sci_config.yaml_interface import yaml_dataclass\n",
    "from numpy.typing import ArrayLike\n",
    "\n",
    "@yaml_dataclass\n",
    "class CustomDataclass:\n",
    "    field1: str\n",
    "    field2: list\n",
    "\n",
    "@yaml_dataclass\n",
    "class Circle:\n",
    "    center: ArrayLike\n",
    "    r: float\n",
    "    def __post_init__(self):\n",
    "        # ensure the center is loaded as an array (for lazy people who don't write np.array([])\n",
    "        self.center = np.asarray(self.center)\n",
    "        assert(self.center.shape == (2,))\n",
    "\n",
    "@yaml_dataclass\n",
    "class Eyes:\n",
    "    left_eye: Circle\n",
    "    right_eye: Circle\n",
    "    def __post_init__(self):\n",
    "        # performs validation that the eyes do not overlap\n",
    "        assert (np.sum((self.left_eye.center- self.right_eye.center)**2 >=\n",
    "                       self.left_eye.r + self.right_eye.r))\n",
    "custom_types_yaml=\\\n",
    "'''\n",
    "cust_class: !CustomDataclass # make sure the space between the exclamation point and yaml tag is there\n",
    "    field1: This\n",
    "    field2: [2,4,5]\n",
    "\n",
    "circle: !Circle\n",
    "    center: np.array([2.3,4.1]) # convenience method for numpy arrays. Still should be sanitizied in post_init.\n",
    "    r: 2.4\n",
    "\n",
    "eyes: !Eyes\n",
    "    left_eye: !Circle\n",
    "        center: np.array([-1.0,0])\n",
    "        r: .75\n",
    "    right_eye: !Circle\n",
    "        center: np.array([1,0.0])\n",
    "        r: .75\n",
    "'''\n",
    "\n",
    "loaded = yaml_load(custom_types_yaml)\n",
    "\n",
    "print(loaded['cust_class'])\n",
    "print(loaded['circle'])\n",
    "print(loaded['eyes'])\n",
    "\n"
   ],
   "outputs": [
    {
     "name": "stdout",
     "output_type": "stream",
     "text": [
      "CustomDataclass(field1='This', field2=[2, 4, 5])\n",
      "Circle(center=array([2.3, 4.1]), r=2.4)\n",
      "Eyes(left_eye=Circle(center=array([-1.,  0.]), r=0.75), right_eye=Circle(center=array([1., 0.]), r=0.75))\n"
     ]
    }
   ],
   "execution_count": 8
  },
  {
   "cell_type": "markdown",
   "id": "c9d3269b011b4ca6",
   "metadata": {},
   "source": [
    "# Running a script, generating config files."
   ]
  },
  {
   "cell_type": "markdown",
   "id": "c658a9ef0a9e5e5d",
   "metadata": {},
   "source": [
    "Finally, we have an easy way of running a script reproducibly with some helper functions. There is a minimal example in the example folder. When you run `sample_run_config_script.py` it automatically generates a yaml file in its configured output directory. This yaml file can then be used to rerun the program if it is so chosen."
   ]
  },
  {
   "cell_type": "markdown",
   "id": "5214bd37fb3b7149",
   "metadata": {},
   "source": []
  },
  {
   "cell_type": "markdown",
   "id": "8fb83a83b7f29d80",
   "metadata": {},
   "source": [
    "#"
   ]
  },
  {
   "cell_type": "markdown",
   "id": "e9dbe224caa4bd9",
   "metadata": {},
   "source": []
  }
 ],
 "metadata": {
  "kernelspec": {
   "display_name": "Python 3 (ipykernel)",
   "language": "python",
   "name": "python3"
  },
  "language_info": {
   "codemirror_mode": {
    "name": "ipython",
    "version": 3
   },
   "file_extension": ".py",
   "mimetype": "text/x-python",
   "name": "python",
   "nbconvert_exporter": "python",
   "pygments_lexer": "ipython3",
   "version": "3.11.5"
  }
 },
 "nbformat": 4,
 "nbformat_minor": 5
}
